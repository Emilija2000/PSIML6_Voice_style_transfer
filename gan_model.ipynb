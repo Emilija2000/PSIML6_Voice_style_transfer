{
 "cells": [
  {
   "cell_type": "code",
   "execution_count": 2,
   "metadata": {},
   "outputs": [],
   "source": [
    "import torch.nn as nn\n",
    "import torch.nn.functional as F\n"
   ]
  },
  {
   "cell_type": "code",
   "execution_count": 3,
   "metadata": {},
   "outputs": [],
   "source": [
    "#IMPORT OUR LIBRARIES\n",
    "import dataloader\n",
    "import best_classif_model"
   ]
  },
  {
   "cell_type": "code",
   "execution_count": 4,
   "metadata": {},
   "outputs": [
    {
     "name": "stdout",
     "output_type": "stream",
     "text": [
      "Loading:  50  items from dataset\n",
      "Loading:  100  items from dataset\n",
      "Loading:  150  items from dataset\n",
      "Loading:  200  items from dataset\n",
      "Loading:  250  items from dataset\n",
      "Loading:  300  items from dataset\n",
      "Loading:  350  items from dataset\n",
      "Loading:  400  items from dataset\n",
      "Loading:  450  items from dataset\n",
      "Loading:  500  items from dataset\n",
      "Loading:  550  items from dataset\n",
      "Loading:  600  items from dataset\n",
      "Loading:  650  items from dataset\n",
      "Loading:  700  items from dataset\n",
      "Loading:  750  items from dataset\n",
      "Loading:  800  items from dataset\n",
      "Loading:  850  items from dataset\n",
      "Loading:  900  items from dataset\n"
     ]
    }
   ],
   "source": [
    "#LOAD DATASET\n",
    "dataset = dataloader.MusicDataset('Data/genres_original','Data/features_30_sec.csv')"
   ]
  },
  {
   "cell_type": "code",
   "execution_count": null,
   "metadata": {},
   "outputs": [],
   "source": [
    "\n"
   ]
  },
  {
   "cell_type": "code",
   "execution_count": null,
   "metadata": {},
   "outputs": [],
   "source": [
    "#MODEL - GENERATOR\n",
    "\n",
    "class Generator(nn.Module):\n",
    "    def __init__(self):\n",
    "        super(Generator,self).__init__()\n",
    "        pass\n",
    "    \n",
    "    def forward(self,x):\n",
    "        pass\n",
    "\n"
   ]
  },
  {
   "cell_type": "code",
   "execution_count": null,
   "metadata": {},
   "outputs": [],
   "source": [
    "#MODEL - DISKRIMINATOR\n",
    "\n",
    "class Discriminator(nn.Module):\n",
    "    def __init__(self):\n",
    "        super(Discriminator,self).__init__()\n",
    "        modules = []\n",
    "\n",
    "        modules.append(nn.Conv2d(in_channels = 1, out_channels = 8, kernel_size = 2, stride = 2))\n",
    "        modules.append(nn.BatchNorm2d(8))\n",
    "        modules.append(nn.ReLU(inplace = True))\n",
    "\n",
    "        modules.append(nn.Conv2d(in_channels = 8, out_channels = 16, kernel_size = 2, stride = 2))\n",
    "        modules.append(nn.BatchNorm2d(16))\n",
    "        modules.append(nn.ReLU(inplace = True))\n",
    "\n",
    "        modules.append(nn.Conv2d(in_channels = 16, out_channels = 32, kernel_size = 2, stride = 2))\n",
    "        modules.append(nn.BatchNorm2d(32))\n",
    "        modules.append(nn.ReLU(inplace = True))\n",
    "\n",
    "        modules.append(nn.Conv2d(in_channels = 32, out_channels = 64, kernel_size = 2, stride = 2))\n",
    "        modules.append(nn.BatchNorm2d(64))\n",
    "        modules.append(nn.ReLU(inplace = True))\n",
    "\n",
    "        modules.append(nn.Conv2d(in_channels = 64, out_channels = 32, kernel_size = 2, stride = 2))\n",
    "        modules.append(nn.BatchNorm2d(32))\n",
    "        modules.append(nn.ReLU(inplace = True))\n",
    "        \n",
    "        \n",
    "        modules.append(nn.Conv2d(in_channels = 32, out_channels = 16, kernel_size = 2, stride = 2))\n",
    "        modules.append(nn.BatchNorm2d(16))\n",
    "        modules.append(nn.ReLU(inplace = True))\n",
    "        \n",
    "        modules.append(nn.AdaptiveAvgPool2d(output_size = 1))\n",
    "\n",
    "        self.fc=nn.Linear(in_features=16,out_features=1,bias=True)\n",
    "        \n",
    "        self.sequence = nn.Sequential(*modules)\n",
    "\n",
    "\n",
    "    def forward(self,x):\n",
    "        y = self.sequence(x)\n",
    "        y=torch.flatten(y,start_dim=1)\n",
    "        y = self.fc(y)\n",
    "        return nn.Sigmoid()(y)\n",
    " "
   ]
  },
  {
   "cell_type": "code",
   "execution_count": null,
   "metadata": {},
   "outputs": [],
   "source": [
    "#CREATE INSTANCES\n",
    "discriminator = Discriminator()\n",
    "generator = Generator()\n",
    "\n",
    "#LOAD BEST CLASSIFIER\n",
    "classifier = best_calssif_model.Classifier(len(dataset.classes))\n",
    "PATH = \"model_best.pt\"\n",
    "classifier.load_state_dict(torch.load(PATH))\n",
    "\n",
    "#DEVICE\n",
    "device = torch.device('cuda')\n",
    "discriminator = discriminator.cuda()\n",
    "generator = generator.cuda()\n",
    "classifier = classifier.cuda()"
   ]
  },
  {
   "cell_type": "code",
   "execution_count": null,
   "metadata": {},
   "outputs": [],
   "source": []
  }
 ],
 "metadata": {
  "kernelspec": {
   "display_name": "Python 3",
   "language": "python",
   "name": "python3"
  },
  "language_info": {
   "codemirror_mode": {
    "name": "ipython",
    "version": 3
   },
   "file_extension": ".py",
   "mimetype": "text/x-python",
   "name": "python",
   "nbconvert_exporter": "python",
   "pygments_lexer": "ipython3",
   "version": "3.7.7"
  }
 },
 "nbformat": 4,
 "nbformat_minor": 4
}
