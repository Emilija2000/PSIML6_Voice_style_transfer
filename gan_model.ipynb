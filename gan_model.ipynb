{
 "cells": [
  {
   "cell_type": "code",
   "execution_count": 1,
   "metadata": {},
   "outputs": [],
   "source": [
    "import torch\n",
    "import torch.nn as nn\n",
    "import torch.nn.functional as F\n",
    "import torch.backends.cudnn as cudnn\n",
    "import librosa\n",
    "import numpy as np\n",
    "import matplotlib.pyplot as plt\n",
    "\n",
    "import random\n"
   ]
  },
  {
   "cell_type": "code",
   "execution_count": 2,
   "metadata": {},
   "outputs": [],
   "source": [
    "#IMPORT OUR LIBRARIES\n",
    "import dataloader\n",
    "import best_classif_model\n",
    "\n",
    "cudnn.benchmark = True\n"
   ]
  },
  {
   "cell_type": "code",
   "execution_count": 3,
   "metadata": {},
   "outputs": [
    {
     "name": "stdout",
     "output_type": "stream",
     "text": [
      "Loading:  50  items from dataset\n",
      "Loading:  100  items from dataset\n",
      "Loading:  150  items from dataset\n",
      "Loading:  200  items from dataset\n",
      "Loading:  250  items from dataset\n",
      "Loading:  300  items from dataset\n",
      "Loading:  350  items from dataset\n",
      "Loading:  400  items from dataset\n",
      "Loading:  450  items from dataset\n",
      "Loading:  500  items from dataset\n",
      "Loading:  550  items from dataset\n",
      "Loading:  600  items from dataset\n",
      "Loading:  650  items from dataset\n",
      "Loading:  700  items from dataset\n",
      "Loading:  750  items from dataset\n",
      "Loading:  800  items from dataset\n",
      "Loading:  850  items from dataset\n",
      "Loading:  900  items from dataset\n"
     ]
    }
   ],
   "source": [
    "#LOAD DATASET\n",
    "dataset = dataloader.MusicDataset('Data/genres_original','Data/features_30_sec.csv')"
   ]
  },
  {
   "cell_type": "code",
   "execution_count": 4,
   "metadata": {},
   "outputs": [],
   "source": [
    "#RESNET BLOCK\n",
    "\n",
    "class ResidualBlock(nn.Module):\n",
    "    \"\"\"Residual Block with instance normalization.\"\"\"\n",
    "    def __init__(self, dim_in, dim_out):\n",
    "        super(ResidualBlock, self).__init__()\n",
    "        self.main = nn.Sequential(\n",
    "            nn.Conv2d(dim_in, dim_out, kernel_size=3, stride=1, padding=1, bias=False),\n",
    "            nn.InstanceNorm2d(dim_out, affine=True, track_running_stats=True),\n",
    "            nn.ReLU(inplace=True),\n",
    "            nn.Conv2d(dim_out, dim_out, kernel_size=3, stride=1, padding=1, bias=False),\n",
    "            nn.InstanceNorm2d(dim_out, affine=True, track_running_stats=True))\n",
    "\n",
    "    def forward(self, x):\n",
    "        return x + self.main(x)"
   ]
  },
  {
   "cell_type": "code",
   "execution_count": 5,
   "metadata": {},
   "outputs": [],
   "source": [
    "#MODEL - GENERATOR\n",
    "class Generator(nn.Module):\n",
    "    \n",
    "    def __init__(self, num_classes=8, conv_dim=64, repeat_num=6):\n",
    "        super(Generator, self).__init__()\n",
    "        \n",
    "        c_dim = num_classes\n",
    "        \n",
    "        #upp sampling\n",
    "        layers = []\n",
    "        layers.append(nn.Conv2d(1+c_dim, conv_dim, kernel_size=(3, 9), padding=(1, 4), bias=False))\n",
    "        layers.append(nn.InstanceNorm2d(conv_dim, affine=True, track_running_stats=True))\n",
    "        layers.append(nn.ReLU(inplace=True))\n",
    "\n",
    "        # Down-sampling layers.\n",
    "        curr_dim = conv_dim\n",
    "        for i in range(2):\n",
    "            layers.append(nn.Conv2d(curr_dim, curr_dim*2, kernel_size=(4, 8), stride=(2, 2), padding=(1, 3), bias=False))\n",
    "            layers.append(nn.InstanceNorm2d(curr_dim*2, affine=True, track_running_stats=True))\n",
    "            layers.append(nn.ReLU(inplace=True))\n",
    "            curr_dim = curr_dim * 2\n",
    "\n",
    "        # Bottleneck layers.\n",
    "        for i in range(repeat_num):\n",
    "            layers.append(ResidualBlock(curr_dim, curr_dim))\n",
    "\n",
    "        # Up-sampling layers.\n",
    "        for i in range(2):\n",
    "            layers.append(nn.ConvTranspose2d(curr_dim, curr_dim//2, kernel_size=4, stride=2, padding=1, bias=False))\n",
    "            layers.append(nn.InstanceNorm2d(curr_dim//2, affine=True, track_running_stats=True))\n",
    "            layers.append(nn.ReLU(inplace=True))\n",
    "            curr_dim = curr_dim // 2\n",
    "\n",
    "        layers.append(nn.Conv2d(curr_dim, 1, kernel_size=7, stride=1, padding=3, bias=False))\n",
    "        self.main = nn.Sequential(*layers)\n",
    "\n",
    "    def forward(self, x, c):\n",
    "        # Replicate spatially and concatenate domain information.\n",
    "        c = c.view(c.size(0), c.size(1), 1, 1)\n",
    "        c = c.repeat(1, 1, x.size(2), x.size(3))\n",
    "        x = torch.cat([x, c], dim=1)\n",
    "        return self.main(x)\n"
   ]
  },
  {
   "cell_type": "code",
   "execution_count": 6,
   "metadata": {},
   "outputs": [],
   "source": [
    "#MODEL - DISKRIMINATOR\n",
    "\n",
    "class Discriminator(nn.Module):\n",
    "    \n",
    "    def __init__(self, num_classes):\n",
    "        super(Discriminator,self).__init__()\n",
    "        modules = []\n",
    "\n",
    "        modules.append(nn.Conv2d(in_channels = 1, out_channels = 8, kernel_size = 2, stride = 2))\n",
    "        modules.append(nn.BatchNorm2d(8))\n",
    "        modules.append(nn.ReLU(inplace = True))\n",
    "\n",
    "        modules.append(nn.Conv2d(in_channels = 8, out_channels = 16, kernel_size = 2, stride = 2))\n",
    "        modules.append(nn.BatchNorm2d(16))\n",
    "        modules.append(nn.ReLU(inplace = True))\n",
    "\n",
    "        modules.append(nn.Conv2d(in_channels = 16, out_channels = 32, kernel_size = 2, stride = 2))\n",
    "        modules.append(nn.BatchNorm2d(32))\n",
    "        modules.append(nn.ReLU(inplace = True))\n",
    "\n",
    "        modules.append(nn.Conv2d(in_channels = 32, out_channels = 64, kernel_size = 2, stride = 2))\n",
    "        modules.append(nn.BatchNorm2d(64))\n",
    "        modules.append(nn.ReLU(inplace = True))\n",
    "\n",
    "        modules.append(nn.Conv2d(in_channels = 64, out_channels = 32, kernel_size = 2, stride = 2))\n",
    "        modules.append(nn.BatchNorm2d(32))\n",
    "        modules.append(nn.ReLU(inplace = True))\n",
    "        \n",
    "        \n",
    "        modules.append(nn.Conv2d(in_channels = 32, out_channels = 16, kernel_size = 2, stride = 2))\n",
    "        modules.append(nn.BatchNorm2d(16))\n",
    "        modules.append(nn.ReLU(inplace = True))\n",
    "        \n",
    "        modules.append(nn.AdaptiveAvgPool2d(output_size = 1))\n",
    "\n",
    "        self.fc=nn.Linear(in_features=16,out_features=1,bias=True)\n",
    "        \n",
    "        self.fc_classif = nn.Linear(in_features=16, out_features = num_classes,bias=True)\n",
    "        \n",
    "        self.sequence = nn.Sequential(*modules)\n",
    "\n",
    "\n",
    "    def forward(self,x):\n",
    "        y = self.sequence(x)\n",
    "        y = torch.flatten(y,start_dim=1)\n",
    "        predict_fake = nn.Sigmoid()(self.fc(y))\n",
    "        predict_genre = nn.Softmax()(self.fc_classif(y))\n",
    "        return predict_genre, predict_fake\n",
    " "
   ]
  },
  {
   "cell_type": "code",
   "execution_count": 7,
   "metadata": {},
   "outputs": [],
   "source": [
    "#CREATE INSTANCES\n",
    "\n",
    "torch.cuda.empty_cache()\n",
    "\n",
    "discriminator = Discriminator(len(dataset.classes))\n",
    "generator = Generator(num_classes = len(dataset.classes))\n",
    "\n",
    "#LOAD BEST CLASSIFIER\n",
    "#classifier = best_classif_model.Classifier(len(dataset.classes))\n",
    "#PATH = \"model_best.pt\"\n",
    "#classifier.load_state_dict(torch.load(PATH))\n",
    "\n",
    "#DEVICE\n",
    "device = torch.device('cuda')\n",
    "discriminator = discriminator.cuda()\n",
    "generator = generator.cuda()"
   ]
  },
  {
   "cell_type": "code",
   "execution_count": 11,
   "metadata": {},
   "outputs": [
    {
     "name": "stdout",
     "output_type": "stream",
     "text": [
      "(tensor([[0.1681, 0.1409, 0.0797, 0.1066, 0.1165, 0.0949, 0.1080, 0.0805, 0.1049]],\n",
      "       device='cuda:0', grad_fn=<SoftmaxBackward>), tensor([[0.5199]], device='cuda:0', grad_fn=<SigmoidBackward>))\n"
     ]
    },
    {
     "name": "stderr",
     "output_type": "stream",
     "text": [
      "C:\\Anaconda\\envs\\psiml_gpu\\lib\\site-packages\\ipykernel_launcher.py:47: UserWarning: Implicit dimension choice for softmax has been deprecated. Change the call to include dim=X as an argument.\n"
     ]
    }
   ],
   "source": [
    "#isprobavanje 1\n",
    "name, spect, label = dataset.__getitem__(1)\n",
    "spect = spect.reshape(1,spect.size(0),spect.size(1),spect.size(2))\n",
    "\n",
    "spect = spect.to(device)\n",
    "\n",
    "y = discriminator(spect)\n",
    "print(y)"
   ]
  },
  {
   "cell_type": "code",
   "execution_count": 40,
   "metadata": {},
   "outputs": [
    {
     "name": "stdout",
     "output_type": "stream",
     "text": [
      "torch.Size([1, 1, 128, 1280])\n",
      "torch.Size([1, 1, 128, 1280])\n"
     ]
    }
   ],
   "source": [
    "#isprobavanje 2\n",
    "label_onehot = torch.zeros(len(dataset.classes)) \n",
    "label_onehot[label] = 1\n",
    "label_onehot = label_onehot.reshape(1,-1)\n",
    "label_onehot = label_onehot.to(device)\n",
    "y = generator(spect,label_onehot)\n",
    "print(y.shape)\n",
    "print(spect.shape)"
   ]
  },
  {
   "cell_type": "code",
   "execution_count": 41,
   "metadata": {},
   "outputs": [
    {
     "data": {
      "image/png": "[encoded data removed]",
      "text/plain": [
       "<Figure size 432x288 with 1 Axes>"
      ]
     },
     "metadata": {
      "needs_background": "light"
     },
     "output_type": "display_data"
    },
    {
     "data": {
      "text/plain": [
       "<matplotlib.image.AxesImage at 0x1ce9f734848>"
      ]
     },
     "execution_count": 41,
     "metadata": {},
     "output_type": "execute_result"
    },
    {
     "data": {
      "image/png": "[encoded data removed]",
      "text/plain": [
       "<Figure size 432x288 with 1 Axes>"
      ]
     },
     "metadata": {
      "needs_background": "light"
     },
     "output_type": "display_data"
    }
   ],
   "source": [
    "#isprobavanje 3\n",
    "y = y.detach().cpu().numpy().reshape(y.size(2),y.size(3))\n",
    "spect = spect.detach().cpu().numpy().reshape(spect.size(2),spect.size(3))\n",
    "plt.imshow(y)\n",
    "plt.show()\n",
    "plt.imshow(spect)"
   ]
  },
  {
   "cell_type": "code",
   "execution_count": 8,
   "metadata": {
    "scrolled": true
   },
   "outputs": [],
   "source": [
    "#TRAIN\n",
    "\n",
    "num_epochs = 1000\n",
    "batch_size = 5\n",
    "num_workers = 0\n",
    "# make train and valid splits\n",
    "\n",
    "random.seed(0)  # rng seed, set to 0 for reproducibility\n",
    "\n",
    "dataset_indices = list(range(len(dataset)))\n",
    "random.shuffle(dataset_indices)  # shuffle the indices before splitting (use random.shuffle)\n",
    "\n",
    "#split datasets\n",
    "train_split_indices = dataset_indices[:int(len(dataset_indices)*0.8)]  # get the training split indices\n",
    "#valid_split_indices = dataset_indices[int(len(dataset_indices)*0.6):int(len(dataset_indices)*0.8)]  # get the validation split indices \n",
    "#test_split_indices = dataset_indices[int(len(dataset_indices)*0.8):]\n",
    "\n",
    "train_subset_sampler = torch.utils.data.SubsetRandomSampler(train_split_indices)\n",
    "#valid_subset_sampler = torch.utils.data.SubsetRandomSampler(valid_split_indices)\n",
    "#test_subset_sampler = torch.utils.data.SubsetRandomSampler(test_split_indices)\n",
    "\n",
    "train_dataloader = torch.utils.data.DataLoader(dataset=dataset, batch_size=batch_size, sampler=train_subset_sampler, num_workers=num_workers, drop_last=True)\n",
    "\n",
    "\n",
    "d_learning_rate=0.01\n",
    "g_learning_rate=0.0005\n",
    "g_optimizer = torch.optim.Adam(generator.parameters(),lr=d_learning_rate)\n",
    "d_optimizer = torch.optim.Adam(generator.parameters(),lr=g_learning_rate)\n",
    "\n",
    "n_disc = 10  \n",
    "    "
   ]
  },
  {
   "cell_type": "code",
   "execution_count": null,
   "metadata": {},
   "outputs": [],
   "source": []
  },
  {
   "cell_type": "code",
   "execution_count": 9,
   "metadata": {
    "scrolled": true
   },
   "outputs": [
    {
     "ename": "SyntaxError",
     "evalue": "invalid syntax (<ipython-input-9-5d037e5b5871>, line 53)",
     "output_type": "error",
     "traceback": [
      "\u001b[1;36m  File \u001b[1;32m\"<ipython-input-9-5d037e5b5871>\"\u001b[1;36m, line \u001b[1;32m53\u001b[0m\n\u001b[1;33m    loss_fake = torch.mean(fake)\u001b[0m\n\u001b[1;37m            ^\u001b[0m\n\u001b[1;31mSyntaxError\u001b[0m\u001b[1;31m:\u001b[0m invalid syntax\n"
     ]
    }
   ],
   "source": [
    "lambda_class_d = 0.5 #parameter for the \"importance\" of good classification\n",
    "lambda_class = 0.5\n",
    "lambda_cycle = 0.5\n",
    "lambda_ident = 0\n",
    "#TODO: parametri wtf\n",
    "\n",
    "\n",
    "for epoch in range(num_epochs):\n",
    "    \n",
    "    for i, (name,spect,label) in enumerate(train_dataloader):\n",
    "        \n",
    "        #get labels (c) and convert to onehot\n",
    "        label_goal = []\n",
    "        rnd_label = []\n",
    "        label_onehot = []\n",
    "        for j in range(batch_size):\n",
    "            rnd_label.append(random.randint(0,len(dataset.classes)-1))\n",
    "            label_goal.append(np.zeros(len(dataset.classes)))\n",
    "            label_goal[j][rnd_label[j]] = 1\n",
    "            \n",
    "            label_onehot.append(np.zeros(len(dataset.classes)))\n",
    "            label_onehot[j][label[j]] = 1\n",
    "        #print(label)\n",
    "        #print(label_onehot)\n",
    "        label_goal = torch.Tensor(label_goal) \n",
    "        label_onehot = torch.Tensor(label_onehot)\n",
    "        \n",
    "        #print('ucitao labele=',label_goal)\n",
    "        \n",
    "        label = label.type(torch.LongTensor)\n",
    "        rnd_label = torch.Tensor(rnd_label)\n",
    "        rnd_label = rnd_label.type(torch.LongTensor)\n",
    "        \n",
    "        label = label.to(device)\n",
    "        rnd_label = rnd_label.to(device)\n",
    "        label_onehot = label_onehot.to(device)\n",
    "        label_goal = label_goal.to(device)\n",
    "        spect = spect.to(device)\n",
    "        \n",
    "        #print('prebaceno na device\\n')\n",
    "        \n",
    "        #train discriminator\n",
    "        genre,fake = discriminator(spect)\n",
    "        loss_real = - torch.mean(fake)\n",
    "        loss_class = F.cross_entropy(genre, label)\n",
    "        \n",
    "        #print('prosao kroz jedan discr\\n')\n",
    "        #print(label_goal)\n",
    "        generator_out = generator(spect,label_goal)\n",
    "            \n",
    "        #print('prosao kroz gen\\n')\n",
    "        genre, fake = discriminator(generator_out.det\n",
    "        loss_fake = torch.mean(fake)\n",
    "        \n",
    "        #TODO: add gradient penalty \n",
    "        \n",
    "        loss_disc = loss_real + loss_fake + lambda_class_d * loss_class\n",
    "        \n",
    "        d_optimizer.zero_grad()\n",
    "        loss_disc.backward()\n",
    "        d_optimizer.step()\n",
    "        if (i%10==0):\n",
    "            print(\"loss_disc=\",loss_disc.item())\n",
    "        #train generator\n",
    "        if (i % n_disc == 0 and epoch>10):\n",
    "            generator_out = generator(spect,label_goal)\n",
    "            genre,fake = discriminator(generator_out)\n",
    "            loss_fake = - torch.mean(fake) #adversary loss\n",
    "            loss_class = F.cross_entropy(genre, rnd_label) #wrong class\n",
    "            \n",
    "            self_inverse = generator(generator_out,label_onehot)\n",
    "            loss_cycle = torch.mean(torch.abs(self_inverse - spect))\n",
    "            \n",
    "            self_out = generator(spect,label_onehot)\n",
    "            loss_ident = torch.mean(torch.abs(self_out - spect))\n",
    "            \n",
    "            loss_gen = loss_fake + lambda_class*loss_class + lambda_cycle * loss_cycle + lambda_ident * loss_ident\n",
    "            \n",
    "            g_optimizer.zero_grad()\n",
    "            loss_gen.backward()\n",
    "            g_optimizer.step()\n",
    "            \n",
    "        if(i%10 == 0 and epoch>10):\n",
    "            generator_out = generator_out[0].detach().cpu().numpy().reshape(generator_out.size(2),generator_out.size(3))\n",
    "            plt.imshow(generator_out)\n",
    "            plt.show()\n",
    "            print('Loss disc: ',loss_gen.item())\n",
    "            \n",
    "    print('Epoch: ',epoch,'\\n')\n",
    "        \n",
    "        "
   ]
  },
  {
   "cell_type": "code",
   "execution_count": 71,
   "metadata": {},
   "outputs": [
    {
     "name": "stdout",
     "output_type": "stream",
     "text": [
      "torch.Size([1, 45])\n",
      "torch.Size([5, 1, 128, 1280])\n"
     ]
    }
   ],
   "source": [
    "label_goal = label_goal.reshape(1,-1)\n",
    "print(label_goal.shape)\n",
    "print(spect.shape)"
   ]
  },
  {
   "cell_type": "code",
   "execution_count": 32,
   "metadata": {},
   "outputs": [
    {
     "ename": "AttributeError",
     "evalue": "'numpy.ndarray' object has no attribute 'detach'",
     "output_type": "error",
     "traceback": [
      "\u001b[1;31m---------------------------------------------------------------------------\u001b[0m",
      "\u001b[1;31mAttributeError\u001b[0m                            Traceback (most recent call last)",
      "\u001b[1;32m<ipython-input-32-4ae832a7af24>\u001b[0m in \u001b[0;36m<module>\u001b[1;34m\u001b[0m\n\u001b[1;32m----> 1\u001b[1;33m \u001b[0mgenerator_out\u001b[0m \u001b[1;33m=\u001b[0m \u001b[0mgenerator_out\u001b[0m\u001b[1;33m[\u001b[0m\u001b[1;36m0\u001b[0m\u001b[1;33m]\u001b[0m\u001b[1;33m.\u001b[0m\u001b[0mdetach\u001b[0m\u001b[1;33m(\u001b[0m\u001b[1;33m)\u001b[0m\u001b[1;33m.\u001b[0m\u001b[0mcpu\u001b[0m\u001b[1;33m(\u001b[0m\u001b[1;33m)\u001b[0m\u001b[1;33m.\u001b[0m\u001b[0mnumpy\u001b[0m\u001b[1;33m(\u001b[0m\u001b[1;33m)\u001b[0m\u001b[1;33m.\u001b[0m\u001b[0mreshape\u001b[0m\u001b[1;33m(\u001b[0m\u001b[0mgenerator_out\u001b[0m\u001b[1;33m.\u001b[0m\u001b[0msize\u001b[0m\u001b[1;33m(\u001b[0m\u001b[1;36m2\u001b[0m\u001b[1;33m)\u001b[0m\u001b[1;33m,\u001b[0m\u001b[0mgenerator_out\u001b[0m\u001b[1;33m.\u001b[0m\u001b[0msize\u001b[0m\u001b[1;33m(\u001b[0m\u001b[1;36m3\u001b[0m\u001b[1;33m)\u001b[0m\u001b[1;33m)\u001b[0m\u001b[1;33m\u001b[0m\u001b[1;33m\u001b[0m\u001b[0m\n\u001b[0m\u001b[0;32m      2\u001b[0m \u001b[0mprint\u001b[0m\u001b[1;33m(\u001b[0m\u001b[0mgenerator_out\u001b[0m\u001b[1;33m)\u001b[0m\u001b[1;33m\u001b[0m\u001b[1;33m\u001b[0m\u001b[0m\n",
      "\u001b[1;31mAttributeError\u001b[0m: 'numpy.ndarray' object has no attribute 'detach'"
     ]
    }
   ],
   "source": [
    "generator_out = generator_out[0].detach().cpu().numpy().reshape(generator_out.size(2),generator_out.size(3))"
   ]
  },
  {
   "cell_type": "code",
   "execution_count": 38,
   "metadata": {},
   "outputs": [
    {
     "name": "stdout",
     "output_type": "stream",
     "text": [
      "[[ -6.4659634  -8.267063  -10.671354  ... -11.782118   -9.531325\n",
      "   -6.8890843]\n",
      " [ -9.169422  -11.587151  -15.218663  ... -16.226463  -13.424875\n",
      "   -8.720568 ]\n",
      " [-11.612098  -14.330946  -19.147474  ... -20.542433  -16.072922\n",
      "  -11.741572 ]\n",
      " ...\n",
      " [-11.690397  -15.772744  -19.517529  ... -24.265465  -18.368486\n",
      "  -13.887774 ]\n",
      " [ -8.503827  -11.911726  -14.932167  ... -19.120691  -13.940987\n",
      "  -10.561418 ]\n",
      " [ -6.9551077  -9.605183  -12.747339  ... -15.1258955 -11.647921\n",
      "   -8.526837 ]]\n",
      "1.046313e-11\n",
      "(654848,)\n"
     ]
    }
   ],
   "source": [
    "print(generator_out)\n",
    "audio_signal = librosa.feature.inverse.mel_to_audio(generator_out, sr=22100)\n",
    "print(audio_signal[10005])\n",
    "print(audio_signal.shape)\n",
    "#sf.write('test.wav', audio_signal, sample_rate)"
   ]
  },
  {
   "cell_type": "code",
   "execution_count": 29,
   "metadata": {},
   "outputs": [],
   "source": [
    "import soundfile as sf\n",
    "sf.write('test.wav', audio_signal, 22100)"
   ]
  },
  {
   "cell_type": "code",
   "execution_count": null,
   "metadata": {},
   "outputs": [],
   "source": []
  }
 ],
 "metadata": {
  "kernelspec": {
   "display_name": "Python 3",
   "language": "python",
   "name": "python3"
  },
  "language_info": {
   "codemirror_mode": {
    "name": "ipython",
    "version": 3
   },
   "file_extension": ".py",
   "mimetype": "text/x-python",
   "name": "python",
   "nbconvert_exporter": "python",
   "pygments_lexer": "ipython3",
   "version": "3.7.7"
  }
 },
 "nbformat": 4,
 "nbformat_minor": 4
}
