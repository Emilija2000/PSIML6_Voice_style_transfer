{
 "cells": [
  {
   "cell_type": "code",
   "execution_count": null,
   "metadata": {
    "scrolled": true
   },
   "outputs": [],
   "source": [
    "import librosa\n",
    "import scipy\n",
    "import librosa \n",
    "mp3_path = \"C:\\\\Users\\\\psimluser\\\\Desktop\\\\PSIML6_Voice_style_transfer\\\\Data\\\\genres_original\\\\blues\\\\blues.00000.wav\"\n",
    "y, sr = librosa.load(mp3_path)\n",
    "melspectrogram = librosa.feature.melspectrogram(y=y, sr=sr)\n",
    "\n",
    "print('melspectrogram.shape', melspectrogram.shape)\n",
    "print(melspectrogram)\n",
    "\n",
    "audio_signal = librosa.feature.inverse.mel_to_audio(melspectrogram, sr=sr)\n",
    "print(audio_signal, audio_signal.shape)\n",
    "\n",
    "sf.write('test.wav', audio_signal, sample_rate)"
   ]
  },
  {
   "cell_type": "code",
   "execution_count": null,
   "metadata": {},
   "outputs": [],
   "source": [
    "import soundfile as sf\n",
    "sf.write('test.wav', audio_signal, sr)"
   ]
  },
  {
   "cell_type": "code",
   "execution_count": null,
   "metadata": {},
   "outputs": [],
   "source": [
    "import librosa\n",
    "import scipy\n",
    "import librosa \n",
    "mp3_path = \"C:\\\\Users\\\\psimluser\\\\Desktop\\\\PSIML6_Voice_style_transfer\\\\Data\\\\genres_original\\\\blues\\\\blues.00000.wav\"\n",
    "y, sr = librosa.load(mp3_path)\n",
    "print(y)"
   ]
  },
  {
   "cell_type": "code",
   "execution_count": null,
   "metadata": {},
   "outputs": [],
   "source": [
    "import dataloader\n",
    "import torch\n",
    "import numpy as np \n",
    "import matplotlib.pyplot as plt\n",
    "\n",
    "spect,sr = dataloader.readAudio(\"C:\\\\Users\\\\psimluser\\\\Desktop\\\\PSIML6_Voice_style_transfer\\\\Data\\\\genres_original\\\\blues\\\\blues.00000.wav\")\n",
    "\n",
    "spect = spect[:,:1280]     \n",
    "#spect = torch.Tensor(spect).reshape(1,spect.shape[0],spect.shape[1])\n",
    "#calculate mean and var\n",
    "mean = spect.mean()\n",
    "var = spect.var()\n",
    "spect = (spect-mean)/var\n",
    "\n",
    "dataloader.writeAudio(spect, 22050,mean,var,'meanvarselftest')\n",
    "                "
   ]
  },
  {
   "cell_type": "code",
   "execution_count": 21,
   "metadata": {},
   "outputs": [],
   "source": [
    "import dataloader\n",
    "import torch\n",
    "import pickle\n",
    "\n",
    "with open('something_audio250.pickle','rb') as f:\n",
    "    spect = pickle.load(f)\n",
    "with open('something_mean250.pickle','rb') as f:\n",
    "    mean = pickle.load(f)\n",
    "with open('something_var250.pickle','rb') as f:\n",
    "    var = pickle.load(f)\n",
    "    \n",
    "dataloader.writeAudio(spect, 22050,mean,var,'3cls_self250')\n"
   ]
  },
  {
   "cell_type": "code",
   "execution_count": 7,
   "metadata": {},
   "outputs": [
    {
     "data": {
      "image/png": "[encoded data removed]",
      "text/plain": [
       "<Figure size 432x288 with 1 Axes>"
      ]
     },
     "metadata": {
      "needs_background": "light"
     },
     "output_type": "display_data"
    }
   ],
   "source": [
    "import dataloader\n",
    "import torch\n",
    "import numpy as np \n",
    "import librosa\n",
    "import matplotlib.pyplot as plt\n",
    "\n",
    "y, sr = librosa.load(\"C:\\\\Users\\\\psimluser\\\\Desktop\\\\PSIML6_Voice_style_transfer\\\\Data\\\\genres_original\\\\classical\\\\classical.00000.wav\")\n",
    "\n",
    "plt.plot(y)\n",
    "plt.xlabel('t')\n",
    "plt.ylabel('intensity')\n",
    "plt.show()\n",
    "    "
   ]
  },
  {
   "cell_type": "code",
   "execution_count": null,
   "metadata": {},
   "outputs": [],
   "source": []
  }
 ],
 "metadata": {
  "kernelspec": {
   "display_name": "Python 3",
   "language": "python",
   "name": "python3"
  },
  "language_info": {
   "codemirror_mode": {
    "name": "ipython",
    "version": 3
   },
   "file_extension": ".py",
   "mimetype": "text/x-python",
   "name": "python",
   "nbconvert_exporter": "python",
   "pygments_lexer": "ipython3",
   "version": "3.7.7"
  }
 },
 "nbformat": 4,
 "nbformat_minor": 4
}
